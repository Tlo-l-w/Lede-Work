{
 "cells": [
  {
   "cell_type": "code",
   "execution_count": 1,
   "id": "5c4e455c-da57-4802-9ec6-49d7456a7fd7",
   "metadata": {},
   "outputs": [
    {
     "ename": "SyntaxError",
     "evalue": "invalid decimal literal (1925301774.py, line 9)",
     "output_type": "error",
     "traceback": [
      "\u001b[0;36m  Cell \u001b[0;32mIn[1], line 9\u001b[0;36m\u001b[0m\n\u001b[0;31m    all remaining notes are in 06_classwork folder\u001b[0m\n\u001b[0m                                 ^\u001b[0m\n\u001b[0;31mSyntaxError\u001b[0m\u001b[0;31m:\u001b[0m invalid decimal literal\n"
     ]
    }
   ],
   "source": [
    "#ffmpeg - editing video\n",
    "#yt-dl - downloadig video\n",
    "\n",
    "#api - data for computer\n",
    "#scraper - gathering data for computer from data for person\n",
    "\n",
    "# ? is for parameters at the end, & to connect them ex: example.com/apikey/search.json?q=elections&year=2024\n",
    "\n",
    "all remaining notes are in 06_classwork folder"
   ]
  },
  {
   "cell_type": "code",
   "execution_count": null,
   "id": "c4094284-e745-421a-9572-ddfca4af5062",
   "metadata": {},
   "outputs": [],
   "source": []
  }
 ],
 "metadata": {
  "kernelspec": {
   "display_name": "Python 3 (ipykernel)",
   "language": "python",
   "name": "python3"
  },
  "language_info": {
   "codemirror_mode": {
    "name": "ipython",
    "version": 3
   },
   "file_extension": ".py",
   "mimetype": "text/x-python",
   "name": "python",
   "nbconvert_exporter": "python",
   "pygments_lexer": "ipython3",
   "version": "3.11.8"
  }
 },
 "nbformat": 4,
 "nbformat_minor": 5
}
